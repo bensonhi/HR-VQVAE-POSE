{
 "cells": [
  {
   "cell_type": "code",
   "execution_count": 2,
   "metadata": {},
   "outputs": [],
   "source": [
    "import sys\n",
    "sys.path.append('..')\n",
    "from video.dataset import MnistVideoCodeLMDBDataset\n",
    "from video.dataloader import video_mnist_dataloader\n",
    "from torchvision import utils\n",
    "import numpy as np\n",
    "from video.LSTM3 import LSTM3\n",
    "from video.LSTM_PixelSnail import LSTM_PixelSnail\n",
    "from image.modified.m_vqvae import VQVAE_1\n",
    "from torch import nn\n",
    "import torch\n",
    "from matplotlib import pyplot as plt\n",
    "from image.modified.m_pixelsnail import PixelSNAIL\n"
   ]
  },
  {
   "cell_type": "code",
   "execution_count": 3,
   "metadata": {},
   "outputs": [],
   "source": [
    "lambda_name = 'vqvae_videomnist_2_00099'\n",
    "vqvae_ckpt_path = '../video/checkpoints/videomnist/vqvae/1/00099.pt'\n",
    "\n",
    "input_channel = 16\n",
    "hidden_channel = input_channel\n",
    "epoch_num = 100\n",
    "batch_size = 8\n",
    "device = 'cuda'\n",
    "lr = 0.0004\n",
    "run_num = 1\n",
    "image_samples = 1\n",
    "frame_learn = 8\n",
    "frame_pred = 15"
   ]
  },
  {
   "cell_type": "code",
   "execution_count": 4,
   "metadata": {},
   "outputs": [],
   "source": [
    "dataset = MnistVideoCodeLMDBDataset(lambda_name, 20)\n",
    "loader = video_mnist_dataloader(dataset, batch_size, shuffle=False)\n"
   ]
  },
  {
   "cell_type": "code",
   "execution_count": 5,
   "metadata": {},
   "outputs": [],
   "source": [
    "videomnist_path = '../video/datasets/mnist/moving_mnist/mnist_test_seq.npy'\n",
    "orginal_frames = np.load(videomnist_path)\n",
    "orginal_frames = orginal_frames.swapaxes(0, 1).astype(np.float32)\n",
    "orginal_frames[orginal_frames > 0] = 1.\n"
   ]
  },
  {
   "cell_type": "code",
   "execution_count": 7,
   "metadata": {},
   "outputs": [],
   "source": [
    "input_size = (16,16)\n",
    "input_channel = 16\n",
    "device = 'cuda'\n",
    "hidden_channel = 256\n"
   ]
  },
  {
   "cell_type": "code",
   "execution_count": 8,
   "metadata": {},
   "outputs": [],
   "source": [
    "lstm_model = LSTM3( input_channel= input_channel,hidden_channel= hidden_channel, device=device)\n"
   ]
  },
  {
   "cell_type": "code",
   "execution_count": null,
   "metadata": {},
   "outputs": [],
   "source": []
  }
 ],
 "metadata": {
  "kernelspec": {
   "display_name": "Python 3",
   "language": "python",
   "name": "python3"
  },
  "language_info": {
   "codemirror_mode": {
    "name": "ipython",
    "version": 3
   },
   "file_extension": ".py",
   "mimetype": "text/x-python",
   "name": "python",
   "nbconvert_exporter": "python",
   "pygments_lexer": "ipython3",
   "version": "3.6.9"
  }
 },
 "nbformat": 4,
 "nbformat_minor": 4
}
