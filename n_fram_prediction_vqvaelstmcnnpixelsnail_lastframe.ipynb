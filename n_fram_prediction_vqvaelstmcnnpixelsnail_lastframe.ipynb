{
 "cells": [
  {
   "cell_type": "code",
   "execution_count": 280,
   "metadata": {},
   "outputs": [],
   "source": [
    "import sys\n",
    "sys.path.append('..')\n",
    "from video.dataset import MnistVideoCodeLMDBDataset\n",
    "from video.dataloader import video_mnist_dataloader\n",
    "from torchvision import utils\n",
    "import numpy as np\n",
    "from video.LSTM3 import LSTM3\n",
    "from video.LSTM_PixelSnail3 import LSTM_PixelSnail3\n",
    "from image.modified.m_vqvae import VQVAE_1\n",
    "from torch import nn\n",
    "import torch\n",
    "from matplotlib import pyplot as plt\n",
    "from image.modified.m_pixelsnail import PixelSNAIL\n",
    "from tqdm import tqdm\n",
    "import cv2\n",
    "import itertools"
   ]
  },
  {
   "cell_type": "code",
   "execution_count": 308,
   "metadata": {},
   "outputs": [],
   "source": [
    "lambda_name = 'vqvae_videomnist_2_00099'\n",
    "vqvae_ckpt_path = '../video/checkpoints/videomnist/vqvae/1/00099.pt'\n",
    "\n",
    "input_channel = 16\n",
    "hidden_channel = input_channel\n",
    "epoch_num = 100\n",
    "batch_size = 8\n",
    "device = 'cuda'\n",
    "lr = 0.0004\n",
    "run_num = 6\n",
    "image_samples = 1\n",
    "\n",
    "image_samples = 10\n",
    "frame_len = 20\n",
    "# run 3 , 4 num_frame_len =8 , run 5 num_frame_len = 5\n",
    "num_frame_learn = 5\n",
    "\n"
   ]
  },
  {
   "cell_type": "code",
   "execution_count": 309,
   "metadata": {},
   "outputs": [],
   "source": [
    "dataset = MnistVideoCodeLMDBDataset(lambda_name, frame_len )\n",
    "loader = video_mnist_dataloader(dataset, batch_size, shuffle=False,num_workers=4)\n"
   ]
  },
  {
   "cell_type": "code",
   "execution_count": 310,
   "metadata": {},
   "outputs": [],
   "source": [
    "vqvae_model = VQVAE_1(in_channel=1,\n",
    "            channel=32,\n",
    "            n_res_block=4,\n",
    "            n_res_channel=16,\n",
    "            embed_dim=16,\n",
    "            n_embed=input_channel,\n",
    "            decay=0.99, )\n",
    "vqvae_model = nn.DataParallel(vqvae_model)\n",
    "vqvae_model.load_state_dict(torch.load(vqvae_ckpt_path))\n",
    "vqvae_model = vqvae_model.to(device)\n",
    "\n"
   ]
  },
  {
   "cell_type": "code",
   "execution_count": 311,
   "metadata": {},
   "outputs": [],
   "source": [
    "videomnist_path = '../video/datasets/mnist/moving_mnist/mnist_test_seq.npy'\n",
    "orginal_frames = np.load(videomnist_path)\n",
    "orginal_frames = orginal_frames.swapaxes(0, 1).astype(np.float32)\n",
    "orginal_frames[orginal_frames > 0] = 1.\n"
   ]
  },
  {
   "cell_type": "code",
   "execution_count": 312,
   "metadata": {},
   "outputs": [],
   "source": [
    "input_size = (16,16)\n",
    "input_channel = 16\n",
    "device = 'cuda'\n",
    "\n",
    "\n",
    "hidden_channel = 64\n",
    "\n",
    "channel = 32\n",
    "cnn_kernel_size = 5\n",
    "kernel_size = 5\n",
    "n_block = 5\n",
    "n_res_block = 3\n",
    "n_res_channel = 32\n",
    "dropout = 0.1\n",
    "n_out_res_block = 3\n",
    "n_cond_res_block = 4\n",
    "cond_res_channel = 32\n",
    "lr = 0.0001\n",
    "epoch_num = 100\n"
   ]
  },
  {
   "cell_type": "code",
   "execution_count": 313,
   "metadata": {},
   "outputs": [],
   "source": [
    "lstm_model = LSTM3( input_channel= input_channel,hidden_channel= hidden_channel, device=device)\n",
    "\n",
    "            \n",
    "pixel_model = PixelSNAIL(\n",
    "            shape = [input_size[0], input_size[1]],\n",
    "            n_class = input_channel,\n",
    "            cond_channel = hidden_channel+ input_channel,\n",
    "            channel = channel,\n",
    "            kernel_size = kernel_size,\n",
    "            n_block = n_block,\n",
    "            n_res_block = n_res_block,\n",
    "            res_channel = n_res_channel,\n",
    "            dropout=dropout,\n",
    "            n_out_res_block=n_out_res_block,\n",
    "            n_cond_res_block=n_cond_res_block,\n",
    "            cond_res_channel=cond_res_channel,\n",
    "        )\n"
   ]
  },
  {
   "cell_type": "code",
   "execution_count": 314,
   "metadata": {},
   "outputs": [],
   "source": [
    "lstmpixelsnail_ckpt_path = f'../video/checkpoints/videomnist/vqvae-lstm-pixelsnail/{run_num}/00099.pt'\n",
    "\n",
    "lstmpixelsnail_model = LSTM_PixelSnail3(lstm_model,pixel_model)\n",
    "lstmpixelsnail_model = nn.DataParallel(lstmpixelsnail_model)\n",
    "\n",
    "lstmpixelsnail_model.load_state_dict(torch.load(lstmpixelsnail_ckpt_path))\n",
    "\n",
    "lstmpixelsnail_model = lstmpixelsnail_model.to(device)\n",
    "\n"
   ]
  },
  {
   "cell_type": "code",
   "execution_count": 315,
   "metadata": {},
   "outputs": [],
   "source": [
    "def get_vqvae_decode(sample):\n",
    "    sample = vqvae_model.module.decode_code(sample)\n",
    "    sample = sample.cpu().detach()\n",
    "    sample = sample.squeeze()\n",
    "    sample = (sample > 0.5).float()\n",
    "    return sample"
   ]
  },
  {
   "cell_type": "code",
   "execution_count": 316,
   "metadata": {},
   "outputs": [],
   "source": [
    "def show_sample(sample):\n",
    "    sample = get_vqvae_decode(sample)\n",
    "    plt.imshow(sample[0,:,:])\n",
    "    plt.show()\n"
   ]
  },
  {
   "cell_type": "code",
   "execution_count": 317,
   "metadata": {},
   "outputs": [],
   "source": [
    "def model_learn(lstmpixelsnail_model , inputs,last_frame, cells_state = None):\n",
    "    \n",
    "    \n",
    "    outs = []\n",
    "    size = inputs.size()\n",
    "    for i in range(size[1]-1):\n",
    "        inp = torch.cat([inputs[:,i:i+2,:,:,:],last_frame.unsqueeze(dim=1)],dim=1)\n",
    "        pred, cells_state = lstmpixelsnail_model(inp, cells_state) \n",
    "        outs.append(pred)\n",
    "#     state = []\n",
    "#     for state in cells_state:\n",
    "#         states.append([state[0].detach(),state[1].detach()])\n",
    "        \n",
    "    return outs, cells_state"
   ]
  },
  {
   "cell_type": "code",
   "execution_count": 318,
   "metadata": {},
   "outputs": [],
   "source": [
    "def _to_one_hot(y, num_classes):\n",
    "    scatter_dim = len(y.size())\n",
    "    y_tensor = y.view(*y.size(), -1)\n",
    "    zeros = torch.zeros(*y.size(), num_classes, dtype=y.dtype)\n",
    "\n",
    "    return zeros.scatter(scatter_dim, y_tensor, 1).permute(0, 3, 1, 2)\n"
   ]
  },
  {
   "cell_type": "code",
   "execution_count": 319,
   "metadata": {},
   "outputs": [],
   "source": [
    "def one_hot_to_int(y):\n",
    "#     print('y {}'.format(y.size()))\n",
    "\n",
    "    y_trans = y.permute(0, 2, 3, 1)\n",
    "    y_trans = y_trans.argmax(dim=-1)\n",
    "    return y_trans\n"
   ]
  },
  {
   "cell_type": "code",
   "execution_count": 320,
   "metadata": {},
   "outputs": [],
   "source": [
    "def callback(results,data, run_num):\n",
    "    imgs = []\n",
    "    for preds,frames in zip(results,data):\n",
    "        preds_decode = []\n",
    "        frames_decode = []\n",
    "        with torch.no_grad():\n",
    "            for i,pred in enumerate(preds):\n",
    "                vqvae_model.eval()\n",
    "                pred_decode = get_vqvae_decode(pred)\n",
    "                frame_decode = get_vqvae_decode(frames[:,i,:,:])\n",
    "                frames_decode.append(frame_decode[0,:,:])\n",
    "                preds_decode.append(pred_decode[0,:,:])\n",
    "        ps =torch.cat(preds_decode,dim=1)\n",
    "        fs = torch.cat(frames_decode,dim=1)\n",
    "        img = torch.cat([ps,fs],dim=0)\n",
    "        if len(imgs)==0:\n",
    "            imgs = img\n",
    "        else:\n",
    "            imgs = torch.cat([imgs,img],dim=0)\n",
    "    plt.imshow(imgs)\n",
    "#         plt.show()\n",
    "#     cv2.imwrite('./output_samples/{}.png'.format(run_num),imgs.cpu().detach().numpy()) \n",
    "    plt.savefig('./output_samples/{}.png'.format(run_num))\n",
    "\n",
    "#     plt.figure(figsize=(20,10))"
   ]
  },
  {
   "cell_type": "code",
   "execution_count": 321,
   "metadata": {},
   "outputs": [],
   "source": [
    "def get_pixel_snail_out(cond, size,temperature=1.0):\n",
    "    cache = {}\n",
    "    row = torch.zeros( *size).to('cuda')\n",
    "#     print(row.size())\n",
    "#     print(cond.size())\n",
    "    for i in tqdm(range(size[2])):\n",
    "        for j in range(size[3]):\n",
    "            out, cache = pixel_model(row[: ,:, : i + 1, :], condition=cond, cache=cache)\n",
    "            prob = torch.softmax(out[:, :, i, j] / temperature, 1)\n",
    "            sample = torch.argmax(prob, 1, keepdim=False)\n",
    "            sample = cuda_to_one_hot(sample, size[1]).float()\n",
    "\n",
    "            row[:,:, i, j] = sample\n",
    "    return row"
   ]
  },
  {
   "cell_type": "code",
   "execution_count": 322,
   "metadata": {},
   "outputs": [],
   "source": [
    "def cuda_to_one_hot(y, num_classes):\n",
    "    scatter_dim = len(y.size())\n",
    "    y_tensor = y.view(*y.size(), -1)\n",
    "    zeros = torch.zeros(*y.size(), num_classes, dtype=y.dtype).to('cuda')\n",
    "\n",
    "    return zeros.scatter(scatter_dim, y_tensor, 1)\n",
    "\n",
    "def get_sample(lstm_model,pixel_model ,  input_, last_frame , cells_state, temperature=1.0):\n",
    "    \n",
    "    size = input_[:,0,:,:,:].size()\n",
    "    \n",
    "    lstm_out, cells_state = lstm_model(input_[:,0,:,:,:], cells_state)\n",
    "    pixel_cond = torch.cat([lstm_out,last_frame],dim=1)\n",
    "    row = get_pixel_snail_out(pixel_cond, size)\n",
    "\n",
    "    return row, cells_state\n"
   ]
  },
  {
   "cell_type": "code",
   "execution_count": 323,
   "metadata": {},
   "outputs": [],
   "source": [
    "def visual(outs,ins):\n",
    "    size = ins[:,0,:,:,:].size()\n",
    "    pixel_model.eval()\n",
    "    with torch.no_grad():\n",
    "        for lstm_out in outs:\n",
    "            last_frame= ins[:, -1, :, :, :]\n",
    "            pixel_cond = torch.cat([lstm_out,last_frame],dim=1)\n",
    "\n",
    "            raw = get_pixel_snail_out(pixel_cond, size) \n",
    "            sample_decode = get_vqvae_decode(one_hot_to_int(raw))\n",
    "            plt.imshow(sample_decode[0,:,:])\n",
    "            plt.show()\n"
   ]
  },
  {
   "cell_type": "code",
   "execution_count": 324,
   "metadata": {
    "scrolled": false
   },
   "outputs": [
    {
     "name": "stderr",
     "output_type": "stream",
     "text": [
      "100%|██████████| 16/16 [00:07<00:00,  2.28it/s]\n",
      "100%|██████████| 16/16 [00:07<00:00,  2.24it/s]\n",
      "100%|██████████| 16/16 [00:06<00:00,  2.29it/s]\n",
      "100%|██████████| 16/16 [00:06<00:00,  2.29it/s]\n",
      "100%|██████████| 16/16 [00:07<00:00,  2.28it/s]\n",
      "100%|██████████| 16/16 [00:06<00:00,  2.31it/s]\n",
      "100%|██████████| 16/16 [00:06<00:00,  2.31it/s]\n",
      "100%|██████████| 16/16 [00:06<00:00,  2.29it/s]\n",
      "100%|██████████| 16/16 [00:06<00:00,  2.30it/s]\n",
      "100%|██████████| 16/16 [00:06<00:00,  2.30it/s]\n",
      "100%|██████████| 16/16 [00:07<00:00,  2.25it/s]\n",
      "100%|██████████| 16/16 [00:07<00:00,  2.28it/s]\n",
      "100%|██████████| 16/16 [00:06<00:00,  2.30it/s]\n",
      "100%|██████████| 16/16 [00:06<00:00,  2.29it/s]\n",
      "100%|██████████| 16/16 [00:07<00:00,  2.26it/s]\n",
      "100%|██████████| 16/16 [00:06<00:00,  2.31it/s]\n",
      "100%|██████████| 16/16 [00:06<00:00,  2.31it/s]\n",
      "100%|██████████| 16/16 [00:06<00:00,  2.30it/s]\n",
      "100%|██████████| 16/16 [00:06<00:00,  2.30it/s]\n",
      "100%|██████████| 16/16 [00:07<00:00,  2.28it/s]\n",
      "100%|██████████| 16/16 [00:06<00:00,  2.30it/s]\n",
      "100%|██████████| 16/16 [00:06<00:00,  2.30it/s]\n",
      "100%|██████████| 16/16 [00:06<00:00,  2.30it/s]\n",
      "100%|██████████| 16/16 [00:06<00:00,  2.29it/s]\n",
      "100%|██████████| 16/16 [00:06<00:00,  2.29it/s]\n",
      "100%|██████████| 16/16 [00:06<00:00,  2.30it/s]\n",
      "100%|██████████| 16/16 [00:06<00:00,  2.29it/s]\n",
      "100%|██████████| 16/16 [00:06<00:00,  2.30it/s]\n",
      "100%|██████████| 16/16 [00:06<00:00,  2.29it/s]\n",
      "100%|██████████| 16/16 [00:07<00:00,  2.26it/s]\n",
      "100%|██████████| 16/16 [00:06<00:00,  2.29it/s]\n",
      "100%|██████████| 16/16 [00:06<00:00,  2.29it/s]\n",
      "100%|██████████| 16/16 [00:07<00:00,  2.24it/s]\n",
      "100%|██████████| 16/16 [00:07<00:00,  2.28it/s]\n",
      "100%|██████████| 16/16 [00:06<00:00,  2.30it/s]\n",
      "100%|██████████| 16/16 [00:06<00:00,  2.30it/s]\n",
      "100%|██████████| 16/16 [00:06<00:00,  2.30it/s]\n",
      "100%|██████████| 16/16 [00:06<00:00,  2.30it/s]\n",
      "100%|██████████| 16/16 [00:07<00:00,  2.25it/s]\n",
      "100%|██████████| 16/16 [00:06<00:00,  2.31it/s]\n",
      "100%|██████████| 16/16 [00:06<00:00,  2.30it/s]\n",
      "100%|██████████| 16/16 [00:06<00:00,  2.29it/s]\n",
      "100%|██████████| 16/16 [00:06<00:00,  2.30it/s]\n",
      "100%|██████████| 16/16 [00:06<00:00,  2.31it/s]\n",
      "100%|██████████| 16/16 [00:06<00:00,  2.30it/s]\n",
      "100%|██████████| 16/16 [00:06<00:00,  2.30it/s]\n",
      "100%|██████████| 16/16 [00:06<00:00,  2.30it/s]\n",
      "100%|██████████| 16/16 [00:07<00:00,  2.25it/s]\n",
      "100%|██████████| 16/16 [00:06<00:00,  2.30it/s]\n",
      "100%|██████████| 16/16 [00:06<00:00,  2.30it/s]\n",
      "100%|██████████| 16/16 [00:06<00:00,  2.29it/s]\n",
      "100%|██████████| 16/16 [00:06<00:00,  2.29it/s]\n",
      "100%|██████████| 16/16 [00:06<00:00,  2.30it/s]\n",
      "100%|██████████| 16/16 [00:06<00:00,  2.30it/s]\n",
      "100%|██████████| 16/16 [00:06<00:00,  2.30it/s]\n",
      "100%|██████████| 16/16 [00:06<00:00,  2.30it/s]\n",
      "100%|██████████| 16/16 [00:07<00:00,  2.26it/s]\n",
      "100%|██████████| 16/16 [00:06<00:00,  2.30it/s]\n",
      "100%|██████████| 16/16 [00:06<00:00,  2.30it/s]\n",
      "100%|██████████| 16/16 [00:06<00:00,  2.30it/s]\n",
      "100%|██████████| 16/16 [00:07<00:00,  2.28it/s]\n",
      "100%|██████████| 16/16 [00:06<00:00,  2.30it/s]\n",
      "100%|██████████| 16/16 [00:06<00:00,  2.30it/s]\n",
      "100%|██████████| 16/16 [00:06<00:00,  2.31it/s]\n",
      "100%|██████████| 16/16 [00:06<00:00,  2.30it/s]\n",
      "100%|██████████| 16/16 [00:07<00:00,  2.28it/s]\n",
      "100%|██████████| 16/16 [00:07<00:00,  2.26it/s]\n",
      "100%|██████████| 16/16 [00:06<00:00,  2.30it/s]\n",
      "100%|██████████| 16/16 [00:06<00:00,  2.29it/s]\n",
      "100%|██████████| 16/16 [00:07<00:00,  2.27it/s]\n",
      "100%|██████████| 16/16 [00:06<00:00,  2.30it/s]\n",
      "100%|██████████| 16/16 [00:06<00:00,  2.30it/s]\n",
      "100%|██████████| 16/16 [00:06<00:00,  2.29it/s]\n",
      "100%|██████████| 16/16 [00:06<00:00,  2.30it/s]\n",
      "100%|██████████| 16/16 [00:06<00:00,  2.29it/s]\n"
     ]
    },
    {
     "data": {
      "image/png": "[encoded data removed]",
      "text/plain": [
       "<Figure size 432x288 with 1 Axes>"
      ]
     },
     "metadata": {
      "needs_background": "light"
     },
     "output_type": "display_data"
    }
   ],
   "source": [
    "lstmpixelsnail_model.train()\n",
    "preds =[]\n",
    "torch.backends.cudnn.enabled = False\n",
    "# lstm_model.eval()\n",
    "# pixel_model.eval() \n",
    "results= []\n",
    "data = []\n",
    "with torch.no_grad():\n",
    "    for iter_, (frames, video_inds, frame_inds) in enumerate(loader):\n",
    "        if 5<iter_ <=10:\n",
    "            inputs_ = []\n",
    "            f0 = torch.zeros(frames.shape[0], 1, input_channel,frames.shape[2], frames.shape[3])\n",
    "            f0 = f0.to(device)\n",
    "            inputs_.append(f0)\n",
    "            \n",
    "            for i in range(frames.shape[1]):\n",
    "\n",
    "                input_ = _to_one_hot(frames[:, i, :, :], input_channel).float()\n",
    "                input_ = input_.to(device)\n",
    "                inputs_.append(input_.unsqueeze(dim=1))\n",
    "\n",
    "            inputs_ = torch.cat(inputs_, dim=1)\n",
    "            \n",
    "            \n",
    "            outs, states = model_learn(lstmpixelsnail_model , inputs_[:,:num_frame_learn+1,:,:,:], inputs_[:,num_frame_learn+1,:,:,:] )\n",
    "#             for i, out in enumerate(outs):\n",
    "#                 pred = one_hot_to_int(out)\n",
    "#                 callback(pred[:,:,:],frames[:,i,:,:].to('cuda'))\n",
    "                \n",
    "#             visual(outs,inputs_[:,:num_frame_learn+2,:,:,:])\n",
    "#             samples = None\n",
    "            new_sample =inputs_[:, num_frame_learn  , :, :, :].unsqueeze(dim=1)\n",
    "            preds = []\n",
    "            for i in range(num_frame_learn ,frames.size()[1]):\n",
    "                new_sample,states = get_sample(lstm_model,pixel_model ,new_sample ,inputs_[:, num_frame_learn +1, :, :, :] , states )\n",
    "                pred = one_hot_to_int(new_sample)\n",
    "                preds.append(pred)\n",
    "                frames = frames.to('cuda')\n",
    "                \n",
    "                new_sample = new_sample.unsqueeze(1)\n",
    "            results.append(preds)\n",
    "            data.append(frames[:,num_frame_learn:frames.size()[1],:,:])\n",
    "    callback(results,data,run_num)\n",
    "#                 else:\n",
    "#                     pred = torch.cat((samples,sample.unsqueeze(1)),dim=1)\n",
    "                \n",
    "#                 preds.append(sample)\n",
    "                \n",
    "#                 states = model_learn(lstm_model, cnn_model,pixel_model , new_sample.unsqueeze(dim=0) ,states)\n",
    "                \n",
    "#                 sample = new_sample\n",
    "                   "
   ]
  },
  {
   "cell_type": "code",
   "execution_count": 325,
   "metadata": {},
   "outputs": [
    {
     "ename": "NameError",
     "evalue": "name 'samples' is not defined",
     "output_type": "error",
     "traceback": [
      "\u001b[0;31m---------------------------------------------------------------------------\u001b[0m",
      "\u001b[0;31mNameError\u001b[0m                                 Traceback (most recent call last)",
      "\u001b[0;32m<ipython-input-325-19b635ebe128>\u001b[0m in \u001b[0;36m<module>\u001b[0;34m\u001b[0m\n\u001b[0;32m----> 1\u001b[0;31m \u001b[0msample_int\u001b[0m \u001b[0;34m=\u001b[0m \u001b[0mone_hot_to_int\u001b[0m\u001b[0;34m(\u001b[0m\u001b[0msamples\u001b[0m\u001b[0;34m[\u001b[0m\u001b[0;36m0\u001b[0m\u001b[0;34m,\u001b[0m\u001b[0;34m:\u001b[0m\u001b[0;34m,\u001b[0m\u001b[0;34m:\u001b[0m\u001b[0;34m,\u001b[0m\u001b[0;34m:\u001b[0m\u001b[0;34m]\u001b[0m\u001b[0;34m)\u001b[0m\u001b[0;34m\u001b[0m\u001b[0;34m\u001b[0m\u001b[0m\n\u001b[0m\u001b[1;32m      2\u001b[0m \u001b[0mtorch\u001b[0m\u001b[0;34m.\u001b[0m\u001b[0mbackends\u001b[0m\u001b[0;34m.\u001b[0m\u001b[0mcudnn\u001b[0m\u001b[0;34m.\u001b[0m\u001b[0menabled\u001b[0m \u001b[0;34m=\u001b[0m \u001b[0;32mFalse\u001b[0m\u001b[0;34m\u001b[0m\u001b[0;34m\u001b[0m\u001b[0m\n\u001b[1;32m      3\u001b[0m \u001b[0mcallback\u001b[0m\u001b[0;34m(\u001b[0m\u001b[0msample_int\u001b[0m\u001b[0;34m,\u001b[0m\u001b[0mframes\u001b[0m\u001b[0;34m[\u001b[0m\u001b[0;36m0\u001b[0m\u001b[0;34m,\u001b[0m\u001b[0mframe_learn\u001b[0m\u001b[0;34m:\u001b[0m\u001b[0mframe_pred\u001b[0m\u001b[0;34m+\u001b[0m\u001b[0mframe_learn\u001b[0m\u001b[0;34m,\u001b[0m\u001b[0;34m:\u001b[0m\u001b[0;34m,\u001b[0m\u001b[0;34m:\u001b[0m\u001b[0;34m]\u001b[0m\u001b[0;34m,\u001b[0m\u001b[0mframe_pred\u001b[0m\u001b[0;34m)\u001b[0m\u001b[0;34m\u001b[0m\u001b[0;34m\u001b[0m\u001b[0m\n",
      "\u001b[0;31mNameError\u001b[0m: name 'samples' is not defined"
     ]
    }
   ],
   "source": [
    "sample_int = one_hot_to_int(samples[0,:,:,:])\n",
    "torch.backends.cudnn.enabled = False\n",
    "callback(sample_int,frames[0,frame_learn:frame_pred+frame_learn,:,:],frame_pred)"
   ]
  },
  {
   "cell_type": "code",
   "execution_count": null,
   "metadata": {},
   "outputs": [],
   "source": [
    "print(samples[0,:,:,:].shape)"
   ]
  },
  {
   "cell_type": "code",
   "execution_count": null,
   "metadata": {},
   "outputs": [],
   "source": [
    "_input = inputs_[:,1,:,:,:]\n",
    "# _input =_input.to('cuda')\n",
    "# one = _to_one_hot(_input,16)\n",
    "rel = one_hot_to_int(_input)\n",
    "print(rel)\n",
    "print(frames[:, 0, :, :])\n",
    "# print(_input.shape)\n",
    "# for i in range(_input.shape[1]):\n",
    "#     print(_input[:,i,:,:])"
   ]
  },
  {
   "cell_type": "code",
   "execution_count": null,
   "metadata": {},
   "outputs": [],
   "source": [
    "a = torch.randn(4, 4)\n",
    "print(a)\n",
    "torch.argmax(a, dim=0,keepdim=True)"
   ]
  }
 ],
 "metadata": {
  "kernelspec": {
   "display_name": "Python 3",
   "language": "python",
   "name": "python3"
  },
  "language_info": {
   "codemirror_mode": {
    "name": "ipython",
    "version": 3
   },
   "file_extension": ".py",
   "mimetype": "text/x-python",
   "name": "python",
   "nbconvert_exporter": "python",
   "pygments_lexer": "ipython3",
   "version": "3.6.9"
  }
 },
 "nbformat": 4,
 "nbformat_minor": 4
}
